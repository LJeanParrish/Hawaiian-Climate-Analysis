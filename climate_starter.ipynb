{
 "cells": [
  {
   "cell_type": "code",
   "execution_count": 1,
   "metadata": {},
   "outputs": [],
   "source": [
    "%matplotlib inline\n",
    "from matplotlib import style\n",
    "style.use('fivethirtyeight')\n",
    "import matplotlib.pyplot as plt"
   ]
  },
  {
   "cell_type": "code",
   "execution_count": 2,
   "metadata": {},
   "outputs": [],
   "source": [
    "import numpy as np\n",
    "import pandas as pd\n",
    "import datetime as dt"
   ]
  },
  {
   "cell_type": "markdown",
   "metadata": {},
   "source": [
    "# Reflect Tables into SQLAlchemy ORM"
   ]
  },
  {
   "cell_type": "code",
   "execution_count": 3,
   "metadata": {},
   "outputs": [],
   "source": [
    "# Python SQL toolkit and Object Relational Mapper\n",
    "import sqlalchemy\n",
    "from sqlalchemy.ext.automap import automap_base\n",
    "from sqlalchemy.orm import Session\n",
    "from sqlalchemy import create_engine, func"
   ]
  },
  {
   "cell_type": "code",
   "execution_count": 4,
   "metadata": {},
   "outputs": [],
   "source": [
    "# create engine to hawaii.sqlite\n",
    "engine = create_engine(\"sqlite:///hawaii.sqlite\")"
   ]
  },
  {
   "cell_type": "code",
   "execution_count": 5,
   "metadata": {},
   "outputs": [],
   "source": [
    "# reflect an existing database into a new model\n",
    "Base = automap_base()"
   ]
  },
  {
   "cell_type": "code",
   "execution_count": 6,
   "metadata": {},
   "outputs": [],
   "source": [
    "# reflect the tables\n",
    "Base.prepare(engine, reflect=True)"
   ]
  },
  {
   "cell_type": "code",
   "execution_count": 7,
   "metadata": {},
   "outputs": [
    {
     "data": {
      "text/plain": [
       "['measurement', 'station']"
      ]
     },
     "execution_count": 7,
     "metadata": {},
     "output_type": "execute_result"
    }
   ],
   "source": [
    "# View all of the classes that automap found\n",
    "Base.classes.keys()"
   ]
  },
  {
   "cell_type": "code",
   "execution_count": 10,
   "metadata": {},
   "outputs": [],
   "source": [
    "# Save references to each table\n",
    "measurement = Base.classes.measurement\n",
    "station= Base.classes.station"
   ]
  },
  {
   "cell_type": "code",
   "execution_count": 11,
   "metadata": {},
   "outputs": [],
   "source": [
    "# Create our session (link) from Python to the DB\n",
    "session = Session(engine)"
   ]
  },
  {
   "cell_type": "markdown",
   "metadata": {},
   "source": [
    "# Exploratory Precipitation Analysis"
   ]
  },
  {
   "cell_type": "code",
   "execution_count": 12,
   "metadata": {},
   "outputs": [
    {
     "name": "stdout",
     "output_type": "stream",
     "text": [
      "('2017-08-23',)\n"
     ]
    }
   ],
   "source": [
    "# Find the most recent date in the data set in measurment table.  Note station table has no date data.\n",
    "recent = session.query(measurement.date).order_by(measurement.date.desc()).first()\n",
    "print(recent)"
   ]
  },
  {
   "cell_type": "code",
   "execution_count": 13,
   "metadata": {},
   "outputs": [
    {
     "name": "stdout",
     "output_type": "stream",
     "text": [
      "2017-08-23\n",
      "2016-08-23\n"
     ]
    }
   ],
   "source": [
    "# Design a query to retrieve the last 12 months of precipitation data and plot the results. \n",
    "# Starting from the most recent data point in the database. \n",
    "print(dt.date(2017, 8 ,23))\n",
    "\n",
    "# Calculate the date one year from the last date in data set.\n",
    "year_ago = dt.date(2017, 8, 23) - dt.timedelta(days=365)\n",
    "print(year_ago)"
   ]
  },
  {
   "cell_type": "code",
   "execution_count": 19,
   "metadata": {},
   "outputs": [
    {
     "data": {
      "text/html": [
       "<div>\n",
       "<style scoped>\n",
       "    .dataframe tbody tr th:only-of-type {\n",
       "        vertical-align: middle;\n",
       "    }\n",
       "\n",
       "    .dataframe tbody tr th {\n",
       "        vertical-align: top;\n",
       "    }\n",
       "\n",
       "    .dataframe thead th {\n",
       "        text-align: right;\n",
       "    }\n",
       "</style>\n",
       "<table border=\"1\" class=\"dataframe\">\n",
       "  <thead>\n",
       "    <tr style=\"text-align: right;\">\n",
       "      <th></th>\n",
       "      <th>prcp</th>\n",
       "    </tr>\n",
       "    <tr>\n",
       "      <th>date</th>\n",
       "      <th></th>\n",
       "    </tr>\n",
       "  </thead>\n",
       "  <tbody>\n",
       "    <tr>\n",
       "      <th>2016-08-23</th>\n",
       "      <td>0.00</td>\n",
       "    </tr>\n",
       "    <tr>\n",
       "      <th>2016-08-23</th>\n",
       "      <td>NaN</td>\n",
       "    </tr>\n",
       "    <tr>\n",
       "      <th>2016-08-23</th>\n",
       "      <td>1.79</td>\n",
       "    </tr>\n",
       "    <tr>\n",
       "      <th>2016-08-23</th>\n",
       "      <td>0.05</td>\n",
       "    </tr>\n",
       "    <tr>\n",
       "      <th>2016-08-23</th>\n",
       "      <td>0.15</td>\n",
       "    </tr>\n",
       "  </tbody>\n",
       "</table>\n",
       "</div>"
      ],
      "text/plain": [
       "            prcp\n",
       "date            \n",
       "2016-08-23  0.00\n",
       "2016-08-23   NaN\n",
       "2016-08-23  1.79\n",
       "2016-08-23  0.05\n",
       "2016-08-23  0.15"
      ]
     },
     "execution_count": 19,
     "metadata": {},
     "output_type": "execute_result"
    }
   ],
   "source": [
    "# Perform a query to retrieve the data and precipitation scores\n",
    "precipitation = [measurement.date,\n",
    "                measurement.prcp]\n",
    "\n",
    "prcp_score = session.query(*precipitation).\\\n",
    "                    filter(measurement.date >= '2016-08-23').\\\n",
    "                    filter(measurement.date <= '2017-08-23').all()\n",
    "                                  \n",
    "# Save the query results as a Pandas DataFrame and set the index to the date column\n",
    "prcp_score_df = pd.DataFrame(prcp_score, columns=['date', 'prcp'])\n",
    "prcp_score_df.set_index('date', inplace=True)\n",
    "\n",
    "# Sort the dataframe by date\n",
    "sorted_prcp = prcp_score_df.sort_index()\n",
    "sorted_prcp.head()"
   ]
  },
  {
   "cell_type": "code",
   "execution_count": 51,
   "metadata": {
    "scrolled": true
   },
   "outputs": [
    {
     "data": {
      "text/plain": [
       "Text(0, 0.5, 'Precipitation Measurement (inches)')"
      ]
     },
     "execution_count": 51,
     "metadata": {},
     "output_type": "execute_result"
    },
    {
     "data": {
      "image/png": "[encoded data removed]",
      "text/plain": [
       "<Figure size 1440x216 with 1 Axes>"
      ]
     },
     "metadata": {},
     "output_type": "display_data"
    }
   ],
   "source": [
    "##############work out tick location issue#################\n",
    "\n",
    "# Use Pandas Plotting with Matplotlib to plot the data \n",
    "# Set x axis and tick locations\n",
    "x_axis = np.arange(len(sorted_prcp))\n",
    "tick_locations = [value for value in x_axis]\n",
    "\n",
    "# Create a list indicating where to write x labels and set figure size to adjust for space\n",
    "plt.figure(figsize=(20,3))\n",
    "plt.bar(x_axis, sorted_prcp[\"prcp\"], color='b', alpha=0.5, align=\"center\")\n",
    "plt.xlim(0, 2250)\n",
    "plt.ylim(0, 8)\n",
    "\n",
    "plt.title(\"Hawaiian Percipitation Records\")\n",
    "plt.xlabel(\"Date\")\n",
    "plt.ylabel(\"Precipitation Measurement (inches)\")  \n",
    "\n",
    "#plt.xticks(tick_locations, rotation=\"vertical\")"
   ]
  },
  {
   "cell_type": "code",
   "execution_count": 31,
   "metadata": {},
   "outputs": [
    {
     "data": {
      "image/png": "[encoded data removed]",
      "text/plain": [
       "<Figure size 1440x216 with 1 Axes>"
      ]
     },
     "metadata": {},
     "output_type": "display_data"
    }
   ],
   "source": [
    "#################FIX GRAPH LAYOUT Tick size############################################\n",
    "# Use Pandas Plotting with Matplotlib to plot the data\n",
    "date = sorted_prcp.index.values\n",
    "rain = sorted_prcp[\"prcp\"]\n",
    "\n",
    "plt.figure(figsize=(20,3))\n",
    "plt.bar(date, rain, color='b', alpha=0.65, align=\"center\")\n",
    "plt.xlim(0, 300)\n",
    "plt.ylim(0,7)\n",
    "\n",
    "plt.xticks(rotation=90)\n",
    "plt.title(\"Hawaiian Percipitation Scores\")\n",
    "plt.xlabel(\"Date\")\n",
    "plt.ylabel(\"Precipitation Measurement (inch)\")  \n",
    "plt.tight_layout()\n",
    "plt.show()"
   ]
  },
  {
   "cell_type": "code",
   "execution_count": null,
   "metadata": {},
   "outputs": [],
   "source": [
    "##################GO BACK TO ROUND OFF DECIMALS#########################\n",
    "\n",
    "# Use Pandas to calcualte the summary statistics for the precipitation data\n",
    "prcp_mean = sorted_prcp[\"prcp\"].mean()\n",
    "prcp_median = sorted_prcp[\"prcp\"].median()\n",
    "prcp_var = sorted_prcp[\"prcp\"].var()\n",
    "prcp_stdev = sorted_prcp[\"prcp\"].std()\n",
    "prcp_min = sorted_prcp[\"prcp\"].min()\n",
    "prcp_max = sorted_prcp[\"prcp\"].max()\n",
    "\n",
    "print(f'Precipitation statistics for Hawaii mean {prcp_mean}, median {prcp_median}, variance {prcp_var}, .\\\n",
    "standard deviation {prcp_stdev}, minimum {prcp_min} inches, and maximum {prcp_max} inches')"
   ]
  },
  {
   "cell_type": "markdown",
   "metadata": {},
   "source": [
    "# Exploratory Station Analysis"
   ]
  },
  {
   "cell_type": "code",
   "execution_count": null,
   "metadata": {},
   "outputs": [],
   "source": [
    "# Design a query to calculate the total number stations in the dataset\n",
    "station_count = session.query(station).count()\n",
    "print(station_count)\n",
    "\n",
    "####alternative code using measurement table to identify unique stations\n",
    "unique_number = session.query(measurement).group_by(measurement.station).count()\n",
    "print(unique_number)"
   ]
  },
  {
   "cell_type": "code",
   "execution_count": null,
   "metadata": {},
   "outputs": [],
   "source": [
    "# Design a query to find the most active stations (i.e. what stations have the most rows?)\n",
    "unique_stations = session.query(measurement.station, func.count(measurement.station)).\\\n",
    "group_by(measurement.station).all() \n",
    "print(unique_stations)\n",
    "\n",
    "# List the stations and the counts in descending order by creating a unique station df then sorting\n",
    "unique_df = pd.DataFrame({\n",
    "    \"Stations\" : [\"USC00511918\",\"USC00513117\",\"USC00514830\", \"USC00516128\", \"USC00517948\",\"USC00518838\",\\\n",
    "                 \"USC00519281\", \"USC00519397\", \"USC00519523\"],\n",
    "    \"Frequency\" : [1971, 2709, 2202, 2612, 1372, 511, 2772, 2724, 2669]})\n",
    "    \n",
    "sorted_unique_df = unique_df.sort_values(by=['Frequency'], ascending=False)\n",
    "sorted_unique_df"
   ]
  },
  {
   "cell_type": "code",
   "execution_count": null,
   "metadata": {},
   "outputs": [],
   "source": [
    "# Using the most active station id from the previous query, calculate the lowest, highest, and average temperature.\n",
    "#Create for all station data then filter by most frequent USC00519281\n",
    "temperature = [measurement.id,\n",
    "             measurement.station,\n",
    "             measurement.date,\n",
    "             measurement.prcp,\n",
    "             measurement.tobs]\n",
    "\n",
    "station_temp = session.query(*temperature)\n",
    "station_temp_df = pd.DataFrame(station_temp, columns=['id', 'station', 'date', 'prcp', 'temp'])\n",
    "station_temp_df.set_index('id', inplace=True)\n",
    "station_temp_df\n",
    "\n",
    "waihee_station = station_temp_df.loc[station_temp_df[\"station\"]==\"USC00519281\"]\n",
    "waihee_station.head()"
   ]
  },
  {
   "cell_type": "code",
   "execution_count": null,
   "metadata": {},
   "outputs": [],
   "source": [
    "#Calculate the lowest, highest, and average temperature for most frequently reporting station USC00519281.\n",
    "temp_min = waihee_station[\"temp\"].min()\n",
    "temp_max = waihee_station[\"temp\"].max()\n",
    "temp_avg = waihee_station[\"temp\"].mean()\n",
    "print(f'Waihee station minimum temp is {temp_min}F, the maximum temp is {temp_max}, and the average temp is {temp_avg}F')"
   ]
  },
  {
   "cell_type": "code",
   "execution_count": null,
   "metadata": {},
   "outputs": [],
   "source": [
    "# Using the most active station id\n",
    "# Query the last 12 months of temperature observation data for this station and plot the results as a histogram\n",
    "#query the database for the most recent year and filter by most active station USC00519281\n",
    "annualized = session.query(*precipitation).\\\n",
    "filter(measurement.date > '2016-08-23').\\\n",
    "filter(measurement.date < '2017-08-23').\\\n",
    "filter(measurement.station == \"USC00519281\").all()\n",
    "annualized\n",
    "                                  \n",
    "#Create a dataframe from filtered query\n",
    "waihee_annual = pd.DataFrame(annualized, columns=['id', 'station', 'date', 'prcp', 'temp'])\n",
    "waihee_annual.set_index('id', inplace=True)\n",
    "waihee_annual"
   ]
  },
  {
   "cell_type": "code",
   "execution_count": null,
   "metadata": {},
   "outputs": [],
   "source": [
    "#plot the data in a historgram\n",
    "temperature = waihee_annual[\"temp\"]\n",
    "plt.hist(temperature)\n",
    "plt.title(\"Temperature Recordings fro Waihee Station\")\n",
    "plt.xlabel('Temperature (°F)')\n",
    "plt.ylabel(\"Count of Recordings\")\n",
    "plt.show()"
   ]
  },
  {
   "cell_type": "markdown",
   "metadata": {},
   "source": [
    "# Close session"
   ]
  },
  {
   "cell_type": "code",
   "execution_count": null,
   "metadata": {},
   "outputs": [],
   "source": [
    "# Close Session\n",
    "session.close()"
   ]
  }
 ],
 "metadata": {
  "anaconda-cloud": {},
  "kernel_info": {
   "name": "python3"
  },
  "kernelspec": {
   "display_name": "PythonData2",
   "language": "python",
   "name": "pythondata2"
  },
  "language_info": {
   "codemirror_mode": {
    "name": "ipython",
    "version": 3
   },
   "file_extension": ".py",
   "mimetype": "text/x-python",
   "name": "python",
   "nbconvert_exporter": "python",
   "pygments_lexer": "ipython3",
   "version": "3.7.9"
  },
  "nteract": {
   "version": "0.12.3"
  },
  "varInspector": {
   "cols": {
    "lenName": 16,
    "lenType": 16,
    "lenVar": 40
   },
   "kernels_config": {
    "python": {
     "delete_cmd_postfix": "",
     "delete_cmd_prefix": "del ",
     "library": "var_list.py",
     "varRefreshCmd": "print(var_dic_list())"
    },
    "r": {
     "delete_cmd_postfix": ") ",
     "delete_cmd_prefix": "rm(",
     "library": "var_list.r",
     "varRefreshCmd": "cat(var_dic_list()) "
    }
   },
   "types_to_exclude": [
    "module",
    "function",
    "builtin_function_or_method",
    "instance",
    "_Feature"
   ],
   "window_display": false
  }
 },
 "nbformat": 4,
 "nbformat_minor": 2
}
